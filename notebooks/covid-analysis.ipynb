{
 "cells": [
  {
   "cell_type": "code",
   "execution_count": 1,
   "metadata": {},
   "outputs": [],
   "source": [
    "# Import all the dependencies\n",
    "import pandas as pd\n",
    "import matplotlib.pyplot as plt\n",
    "import numpy as np"
   ]
  },
  {
   "cell_type": "code",
   "execution_count": 2,
   "metadata": {},
   "outputs": [
    {
     "data": {
      "text/html": [
       "<div>\n",
       "<style scoped>\n",
       "    .dataframe tbody tr th:only-of-type {\n",
       "        vertical-align: middle;\n",
       "    }\n",
       "\n",
       "    .dataframe tbody tr th {\n",
       "        vertical-align: top;\n",
       "    }\n",
       "\n",
       "    .dataframe thead th {\n",
       "        text-align: right;\n",
       "    }\n",
       "</style>\n",
       "<table border=\"1\" class=\"dataframe\">\n",
       "  <thead>\n",
       "    <tr style=\"text-align: right;\">\n",
       "      <th></th>\n",
       "      <th>Reported Date</th>\n",
       "      <th>Confirmed Negative</th>\n",
       "      <th>Presumptive Negative</th>\n",
       "      <th>Presumptive Positive</th>\n",
       "      <th>Confirmed Positive</th>\n",
       "      <th>Resolved</th>\n",
       "      <th>Deaths</th>\n",
       "      <th>Total Cases</th>\n",
       "      <th>Total patients approved for testing as of Reporting Date</th>\n",
       "      <th>Total tests completed in the last day</th>\n",
       "      <th>...</th>\n",
       "      <th>Number of patients in ICU on a ventilator due to COVID-19</th>\n",
       "      <th>Num. of patients in ICU on a ventilator testing positive</th>\n",
       "      <th>Num. of patients in ICU on a ventilator testing negative</th>\n",
       "      <th>Total Positive LTC Resident Cases</th>\n",
       "      <th>Total Positive LTC HCW Cases</th>\n",
       "      <th>Total LTC Resident Deaths</th>\n",
       "      <th>Total LTC HCW Deaths</th>\n",
       "      <th>Total_Lineage_B.1.1.7</th>\n",
       "      <th>Total_Lineage_B.1.351</th>\n",
       "      <th>Total_Lineage_P.1</th>\n",
       "    </tr>\n",
       "  </thead>\n",
       "  <tbody>\n",
       "    <tr>\n",
       "      <th>0</th>\n",
       "      <td>2020-01-26</td>\n",
       "      <td>NaN</td>\n",
       "      <td>NaN</td>\n",
       "      <td>1.0</td>\n",
       "      <td>NaN</td>\n",
       "      <td>NaN</td>\n",
       "      <td>NaN</td>\n",
       "      <td>NaN</td>\n",
       "      <td>NaN</td>\n",
       "      <td>NaN</td>\n",
       "      <td>...</td>\n",
       "      <td>NaN</td>\n",
       "      <td>NaN</td>\n",
       "      <td>NaN</td>\n",
       "      <td>NaN</td>\n",
       "      <td>NaN</td>\n",
       "      <td>NaN</td>\n",
       "      <td>NaN</td>\n",
       "      <td>NaN</td>\n",
       "      <td>NaN</td>\n",
       "      <td>NaN</td>\n",
       "    </tr>\n",
       "    <tr>\n",
       "      <th>1</th>\n",
       "      <td>2020-01-27</td>\n",
       "      <td>NaN</td>\n",
       "      <td>NaN</td>\n",
       "      <td>2.0</td>\n",
       "      <td>NaN</td>\n",
       "      <td>NaN</td>\n",
       "      <td>NaN</td>\n",
       "      <td>NaN</td>\n",
       "      <td>NaN</td>\n",
       "      <td>NaN</td>\n",
       "      <td>...</td>\n",
       "      <td>NaN</td>\n",
       "      <td>NaN</td>\n",
       "      <td>NaN</td>\n",
       "      <td>NaN</td>\n",
       "      <td>NaN</td>\n",
       "      <td>NaN</td>\n",
       "      <td>NaN</td>\n",
       "      <td>NaN</td>\n",
       "      <td>NaN</td>\n",
       "      <td>NaN</td>\n",
       "    </tr>\n",
       "    <tr>\n",
       "      <th>2</th>\n",
       "      <td>2020-01-28</td>\n",
       "      <td>NaN</td>\n",
       "      <td>NaN</td>\n",
       "      <td>1.0</td>\n",
       "      <td>1.0</td>\n",
       "      <td>NaN</td>\n",
       "      <td>NaN</td>\n",
       "      <td>1.0</td>\n",
       "      <td>NaN</td>\n",
       "      <td>NaN</td>\n",
       "      <td>...</td>\n",
       "      <td>NaN</td>\n",
       "      <td>NaN</td>\n",
       "      <td>NaN</td>\n",
       "      <td>NaN</td>\n",
       "      <td>NaN</td>\n",
       "      <td>NaN</td>\n",
       "      <td>NaN</td>\n",
       "      <td>NaN</td>\n",
       "      <td>NaN</td>\n",
       "      <td>NaN</td>\n",
       "    </tr>\n",
       "    <tr>\n",
       "      <th>3</th>\n",
       "      <td>2020-01-30</td>\n",
       "      <td>NaN</td>\n",
       "      <td>NaN</td>\n",
       "      <td>0.0</td>\n",
       "      <td>2.0</td>\n",
       "      <td>NaN</td>\n",
       "      <td>NaN</td>\n",
       "      <td>2.0</td>\n",
       "      <td>NaN</td>\n",
       "      <td>NaN</td>\n",
       "      <td>...</td>\n",
       "      <td>NaN</td>\n",
       "      <td>NaN</td>\n",
       "      <td>NaN</td>\n",
       "      <td>NaN</td>\n",
       "      <td>NaN</td>\n",
       "      <td>NaN</td>\n",
       "      <td>NaN</td>\n",
       "      <td>NaN</td>\n",
       "      <td>NaN</td>\n",
       "      <td>NaN</td>\n",
       "    </tr>\n",
       "    <tr>\n",
       "      <th>4</th>\n",
       "      <td>2020-01-31</td>\n",
       "      <td>NaN</td>\n",
       "      <td>NaN</td>\n",
       "      <td>0.0</td>\n",
       "      <td>2.0</td>\n",
       "      <td>NaN</td>\n",
       "      <td>NaN</td>\n",
       "      <td>2.0</td>\n",
       "      <td>NaN</td>\n",
       "      <td>NaN</td>\n",
       "      <td>...</td>\n",
       "      <td>NaN</td>\n",
       "      <td>NaN</td>\n",
       "      <td>NaN</td>\n",
       "      <td>NaN</td>\n",
       "      <td>NaN</td>\n",
       "      <td>NaN</td>\n",
       "      <td>NaN</td>\n",
       "      <td>NaN</td>\n",
       "      <td>NaN</td>\n",
       "      <td>NaN</td>\n",
       "    </tr>\n",
       "  </tbody>\n",
       "</table>\n",
       "<p>5 rows × 26 columns</p>\n",
       "</div>"
      ],
      "text/plain": [
       "  Reported Date  Confirmed Negative  Presumptive Negative  \\\n",
       "0    2020-01-26                 NaN                   NaN   \n",
       "1    2020-01-27                 NaN                   NaN   \n",
       "2    2020-01-28                 NaN                   NaN   \n",
       "3    2020-01-30                 NaN                   NaN   \n",
       "4    2020-01-31                 NaN                   NaN   \n",
       "\n",
       "   Presumptive Positive  Confirmed Positive  Resolved  Deaths  Total Cases  \\\n",
       "0                   1.0                 NaN       NaN     NaN          NaN   \n",
       "1                   2.0                 NaN       NaN     NaN          NaN   \n",
       "2                   1.0                 1.0       NaN     NaN          1.0   \n",
       "3                   0.0                 2.0       NaN     NaN          2.0   \n",
       "4                   0.0                 2.0       NaN     NaN          2.0   \n",
       "\n",
       "   Total patients approved for testing as of Reporting Date  \\\n",
       "0                                                NaN          \n",
       "1                                                NaN          \n",
       "2                                                NaN          \n",
       "3                                                NaN          \n",
       "4                                                NaN          \n",
       "\n",
       "   Total tests completed in the last day  ...  \\\n",
       "0                                    NaN  ...   \n",
       "1                                    NaN  ...   \n",
       "2                                    NaN  ...   \n",
       "3                                    NaN  ...   \n",
       "4                                    NaN  ...   \n",
       "\n",
       "   Number of patients in ICU on a ventilator due to COVID-19  \\\n",
       "0                                                NaN           \n",
       "1                                                NaN           \n",
       "2                                                NaN           \n",
       "3                                                NaN           \n",
       "4                                                NaN           \n",
       "\n",
       "   Num. of patients in ICU on a ventilator testing positive  \\\n",
       "0                                                NaN          \n",
       "1                                                NaN          \n",
       "2                                                NaN          \n",
       "3                                                NaN          \n",
       "4                                                NaN          \n",
       "\n",
       "   Num. of patients in ICU on a ventilator testing negative  \\\n",
       "0                                                NaN          \n",
       "1                                                NaN          \n",
       "2                                                NaN          \n",
       "3                                                NaN          \n",
       "4                                                NaN          \n",
       "\n",
       "   Total Positive LTC Resident Cases  Total Positive LTC HCW Cases  \\\n",
       "0                                NaN                           NaN   \n",
       "1                                NaN                           NaN   \n",
       "2                                NaN                           NaN   \n",
       "3                                NaN                           NaN   \n",
       "4                                NaN                           NaN   \n",
       "\n",
       "   Total LTC Resident Deaths  Total LTC HCW Deaths  Total_Lineage_B.1.1.7  \\\n",
       "0                        NaN                   NaN                    NaN   \n",
       "1                        NaN                   NaN                    NaN   \n",
       "2                        NaN                   NaN                    NaN   \n",
       "3                        NaN                   NaN                    NaN   \n",
       "4                        NaN                   NaN                    NaN   \n",
       "\n",
       "   Total_Lineage_B.1.351  Total_Lineage_P.1  \n",
       "0                    NaN                NaN  \n",
       "1                    NaN                NaN  \n",
       "2                    NaN                NaN  \n",
       "3                    NaN                NaN  \n",
       "4                    NaN                NaN  \n",
       "\n",
       "[5 rows x 26 columns]"
      ]
     },
     "execution_count": 2,
     "metadata": {},
     "output_type": "execute_result"
    }
   ],
   "source": [
    "# Load the datasets into pandas dataframes\n",
    "covid_df = pd.read_csv('../data/covidtesting.csv', engine='python')\n",
    "vaccine_df = pd.read_csv('../data/vaccine_doses.csv', thousands=',', engine='python')\n",
    "# Display what the raw data looks like\n",
    "covid_df.head()"
   ]
  },
  {
   "cell_type": "code",
   "execution_count": 3,
   "metadata": {
    "scrolled": true
   },
   "outputs": [
    {
     "data": {
      "text/html": [
       "<div>\n",
       "<style scoped>\n",
       "    .dataframe tbody tr th:only-of-type {\n",
       "        vertical-align: middle;\n",
       "    }\n",
       "\n",
       "    .dataframe tbody tr th {\n",
       "        vertical-align: top;\n",
       "    }\n",
       "\n",
       "    .dataframe thead th {\n",
       "        text-align: right;\n",
       "    }\n",
       "</style>\n",
       "<table border=\"1\" class=\"dataframe\">\n",
       "  <thead>\n",
       "    <tr style=\"text-align: right;\">\n",
       "      <th></th>\n",
       "      <th>report_date</th>\n",
       "      <th>previous_day_doses_administered</th>\n",
       "      <th>total_doses_administered</th>\n",
       "      <th>total_doses_in_fully_vaccinated_individuals</th>\n",
       "      <th>total_individuals_fully_vaccinated</th>\n",
       "    </tr>\n",
       "  </thead>\n",
       "  <tbody>\n",
       "    <tr>\n",
       "      <th>0</th>\n",
       "      <td>2020-12-24</td>\n",
       "      <td>NaN</td>\n",
       "      <td>10756</td>\n",
       "      <td>NaN</td>\n",
       "      <td>NaN</td>\n",
       "    </tr>\n",
       "    <tr>\n",
       "      <th>1</th>\n",
       "      <td>2020-12-30</td>\n",
       "      <td>4595.0</td>\n",
       "      <td>18603</td>\n",
       "      <td>NaN</td>\n",
       "      <td>NaN</td>\n",
       "    </tr>\n",
       "    <tr>\n",
       "      <th>2</th>\n",
       "      <td>2020-12-31</td>\n",
       "      <td>5463.0</td>\n",
       "      <td>23502</td>\n",
       "      <td>NaN</td>\n",
       "      <td>NaN</td>\n",
       "    </tr>\n",
       "    <tr>\n",
       "      <th>3</th>\n",
       "      <td>2021-01-01</td>\n",
       "      <td>5415.0</td>\n",
       "      <td>28887</td>\n",
       "      <td>NaN</td>\n",
       "      <td>NaN</td>\n",
       "    </tr>\n",
       "    <tr>\n",
       "      <th>4</th>\n",
       "      <td>2021-01-02</td>\n",
       "      <td>4305.0</td>\n",
       "      <td>33191</td>\n",
       "      <td>NaN</td>\n",
       "      <td>NaN</td>\n",
       "    </tr>\n",
       "  </tbody>\n",
       "</table>\n",
       "</div>"
      ],
      "text/plain": [
       "  report_date  previous_day_doses_administered  total_doses_administered  \\\n",
       "0  2020-12-24                              NaN                     10756   \n",
       "1  2020-12-30                           4595.0                     18603   \n",
       "2  2020-12-31                           5463.0                     23502   \n",
       "3  2021-01-01                           5415.0                     28887   \n",
       "4  2021-01-02                           4305.0                     33191   \n",
       "\n",
       "   total_doses_in_fully_vaccinated_individuals   \\\n",
       "0                                           NaN   \n",
       "1                                           NaN   \n",
       "2                                           NaN   \n",
       "3                                           NaN   \n",
       "4                                           NaN   \n",
       "\n",
       "   total_individuals_fully_vaccinated  \n",
       "0                                 NaN  \n",
       "1                                 NaN  \n",
       "2                                 NaN  \n",
       "3                                 NaN  \n",
       "4                                 NaN  "
      ]
     },
     "execution_count": 3,
     "metadata": {},
     "output_type": "execute_result"
    }
   ],
   "source": [
    "# Display what the raw data looks like\n",
    "vaccine_df.head()"
   ]
  },
  {
   "cell_type": "code",
   "execution_count": 4,
   "metadata": {},
   "outputs": [],
   "source": [
    "# Rename the covid vaccines columns to match the formatting of other columns\n",
    "# Also rename the 'report_date' column to be consistent with the other dataframe(s)\n",
    "vaccine_df = vaccine_df.rename({'previous_day_doses_administered': 'Previous Day Doses Administered', 'report_date': 'Reported Date'}, axis='columns')"
   ]
  },
  {
   "cell_type": "code",
   "execution_count": 5,
   "metadata": {
    "scrolled": true
   },
   "outputs": [
    {
     "data": {
      "text/html": [
       "<div>\n",
       "<style scoped>\n",
       "    .dataframe tbody tr th:only-of-type {\n",
       "        vertical-align: middle;\n",
       "    }\n",
       "\n",
       "    .dataframe tbody tr th {\n",
       "        vertical-align: top;\n",
       "    }\n",
       "\n",
       "    .dataframe thead th {\n",
       "        text-align: right;\n",
       "    }\n",
       "</style>\n",
       "<table border=\"1\" class=\"dataframe\">\n",
       "  <thead>\n",
       "    <tr style=\"text-align: right;\">\n",
       "      <th></th>\n",
       "      <th>Reported Date</th>\n",
       "      <th>Deaths</th>\n",
       "      <th>Total Cases</th>\n",
       "      <th>Number of patients hospitalized with COVID-19</th>\n",
       "      <th>Previous Day Doses Administered</th>\n",
       "    </tr>\n",
       "  </thead>\n",
       "  <tbody>\n",
       "    <tr>\n",
       "      <th>2</th>\n",
       "      <td>2020-12-31</td>\n",
       "      <td>4530.0</td>\n",
       "      <td>182159.0</td>\n",
       "      <td>1235.0</td>\n",
       "      <td>5463.0</td>\n",
       "    </tr>\n",
       "    <tr>\n",
       "      <th>3</th>\n",
       "      <td>2021-01-01</td>\n",
       "      <td>4581.0</td>\n",
       "      <td>184635.0</td>\n",
       "      <td>1260.0</td>\n",
       "      <td>5415.0</td>\n",
       "    </tr>\n",
       "    <tr>\n",
       "      <th>4</th>\n",
       "      <td>2021-01-02</td>\n",
       "      <td>4625.0</td>\n",
       "      <td>187998.0</td>\n",
       "      <td>1003.0</td>\n",
       "      <td>4305.0</td>\n",
       "    </tr>\n",
       "    <tr>\n",
       "      <th>5</th>\n",
       "      <td>2021-01-03</td>\n",
       "      <td>4650.0</td>\n",
       "      <td>190962.0</td>\n",
       "      <td>998.0</td>\n",
       "      <td>4361.0</td>\n",
       "    </tr>\n",
       "    <tr>\n",
       "      <th>6</th>\n",
       "      <td>2021-01-04</td>\n",
       "      <td>4679.0</td>\n",
       "      <td>194232.0</td>\n",
       "      <td>1190.0</td>\n",
       "      <td>4808.0</td>\n",
       "    </tr>\n",
       "  </tbody>\n",
       "</table>\n",
       "</div>"
      ],
      "text/plain": [
       "  Reported Date  Deaths  Total Cases  \\\n",
       "2    2020-12-31  4530.0     182159.0   \n",
       "3    2021-01-01  4581.0     184635.0   \n",
       "4    2021-01-02  4625.0     187998.0   \n",
       "5    2021-01-03  4650.0     190962.0   \n",
       "6    2021-01-04  4679.0     194232.0   \n",
       "\n",
       "   Number of patients hospitalized with COVID-19  \\\n",
       "2                                         1235.0   \n",
       "3                                         1260.0   \n",
       "4                                         1003.0   \n",
       "5                                          998.0   \n",
       "6                                         1190.0   \n",
       "\n",
       "   Previous Day Doses Administered  \n",
       "2                           5463.0  \n",
       "3                           5415.0  \n",
       "4                           4305.0  \n",
       "5                           4361.0  \n",
       "6                           4808.0  "
      ]
     },
     "execution_count": 5,
     "metadata": {},
     "output_type": "execute_result"
    }
   ],
   "source": [
    "# Merge the datasets using 'report_date' as the unique identifier\n",
    "merged_df = pd.merge(left=covid_df, right=vaccine_df, left_on='Reported Date', right_on='Reported Date')\n",
    "# Remove the first two rows since we want to get rid of the 2020 rows\n",
    "merged_df = merged_df.iloc[2:]\n",
    "# Only select the columns we need/are interested in\n",
    "merged_df = merged_df[['Reported Date', 'Deaths', 'Total Cases', 'Number of patients hospitalized with COVID-19', 'Previous Day Doses Administered']]\n",
    "# Display the new merged dataframe\n",
    "merged_df.head()"
   ]
  },
  {
   "cell_type": "code",
   "execution_count": 6,
   "metadata": {},
   "outputs": [
    {
     "data": {
      "text/html": [
       "<div>\n",
       "<style scoped>\n",
       "    .dataframe tbody tr th:only-of-type {\n",
       "        vertical-align: middle;\n",
       "    }\n",
       "\n",
       "    .dataframe tbody tr th {\n",
       "        vertical-align: top;\n",
       "    }\n",
       "\n",
       "    .dataframe thead th {\n",
       "        text-align: right;\n",
       "    }\n",
       "</style>\n",
       "<table border=\"1\" class=\"dataframe\">\n",
       "  <thead>\n",
       "    <tr style=\"text-align: right;\">\n",
       "      <th></th>\n",
       "      <th>Reported Date</th>\n",
       "      <th>Deaths</th>\n",
       "      <th>Total Cases</th>\n",
       "      <th>Number of patients hospitalized with COVID-19</th>\n",
       "      <th>Doses Administered</th>\n",
       "    </tr>\n",
       "  </thead>\n",
       "  <tbody>\n",
       "    <tr>\n",
       "      <th>2</th>\n",
       "      <td>2020-12-31</td>\n",
       "      <td>4530.0</td>\n",
       "      <td>182159.0</td>\n",
       "      <td>1235.0</td>\n",
       "      <td>5415.0</td>\n",
       "    </tr>\n",
       "    <tr>\n",
       "      <th>3</th>\n",
       "      <td>2021-01-01</td>\n",
       "      <td>4581.0</td>\n",
       "      <td>184635.0</td>\n",
       "      <td>1260.0</td>\n",
       "      <td>4305.0</td>\n",
       "    </tr>\n",
       "    <tr>\n",
       "      <th>4</th>\n",
       "      <td>2021-01-02</td>\n",
       "      <td>4625.0</td>\n",
       "      <td>187998.0</td>\n",
       "      <td>1003.0</td>\n",
       "      <td>4361.0</td>\n",
       "    </tr>\n",
       "    <tr>\n",
       "      <th>5</th>\n",
       "      <td>2021-01-03</td>\n",
       "      <td>4650.0</td>\n",
       "      <td>190962.0</td>\n",
       "      <td>998.0</td>\n",
       "      <td>4808.0</td>\n",
       "    </tr>\n",
       "    <tr>\n",
       "      <th>6</th>\n",
       "      <td>2021-01-04</td>\n",
       "      <td>4679.0</td>\n",
       "      <td>194232.0</td>\n",
       "      <td>1190.0</td>\n",
       "      <td>7607.0</td>\n",
       "    </tr>\n",
       "  </tbody>\n",
       "</table>\n",
       "</div>"
      ],
      "text/plain": [
       "  Reported Date  Deaths  Total Cases  \\\n",
       "2    2020-12-31  4530.0     182159.0   \n",
       "3    2021-01-01  4581.0     184635.0   \n",
       "4    2021-01-02  4625.0     187998.0   \n",
       "5    2021-01-03  4650.0     190962.0   \n",
       "6    2021-01-04  4679.0     194232.0   \n",
       "\n",
       "   Number of patients hospitalized with COVID-19  Doses Administered  \n",
       "2                                         1235.0              5415.0  \n",
       "3                                         1260.0              4305.0  \n",
       "4                                         1003.0              4361.0  \n",
       "5                                          998.0              4808.0  \n",
       "6                                         1190.0              7607.0  "
      ]
     },
     "execution_count": 6,
     "metadata": {},
     "output_type": "execute_result"
    }
   ],
   "source": [
    "# Shift Column 'Previous Day Doses Administered' up by one to make the data correspond to that same day\n",
    "merged_df['Previous Day Doses Administered'] = merged_df['Previous Day Doses Administered'].shift(-1)\n",
    "\n",
    "# Rename Column to reflect the above changes\n",
    "merged_df = merged_df.rename({'Previous Day Doses Administered': 'Doses Administered'}, axis='columns')\n",
    "merged_df.head()"
   ]
  },
  {
   "cell_type": "code",
   "execution_count": 7,
   "metadata": {},
   "outputs": [
    {
     "data": {
      "text/html": [
       "<div>\n",
       "<style scoped>\n",
       "    .dataframe tbody tr th:only-of-type {\n",
       "        vertical-align: middle;\n",
       "    }\n",
       "\n",
       "    .dataframe tbody tr th {\n",
       "        vertical-align: top;\n",
       "    }\n",
       "\n",
       "    .dataframe thead th {\n",
       "        text-align: right;\n",
       "    }\n",
       "</style>\n",
       "<table border=\"1\" class=\"dataframe\">\n",
       "  <thead>\n",
       "    <tr style=\"text-align: right;\">\n",
       "      <th></th>\n",
       "      <th>Reported Date</th>\n",
       "      <th>New Deaths</th>\n",
       "      <th>New Cases</th>\n",
       "      <th>Number of patients hospitalized with COVID-19</th>\n",
       "      <th>Doses Administered</th>\n",
       "    </tr>\n",
       "  </thead>\n",
       "  <tbody>\n",
       "    <tr>\n",
       "      <th>3</th>\n",
       "      <td>2021-01-01</td>\n",
       "      <td>51.0</td>\n",
       "      <td>2476.0</td>\n",
       "      <td>1260.0</td>\n",
       "      <td>4305.0</td>\n",
       "    </tr>\n",
       "    <tr>\n",
       "      <th>4</th>\n",
       "      <td>2021-01-02</td>\n",
       "      <td>44.0</td>\n",
       "      <td>3363.0</td>\n",
       "      <td>1003.0</td>\n",
       "      <td>4361.0</td>\n",
       "    </tr>\n",
       "    <tr>\n",
       "      <th>5</th>\n",
       "      <td>2021-01-03</td>\n",
       "      <td>25.0</td>\n",
       "      <td>2964.0</td>\n",
       "      <td>998.0</td>\n",
       "      <td>4808.0</td>\n",
       "    </tr>\n",
       "    <tr>\n",
       "      <th>6</th>\n",
       "      <td>2021-01-04</td>\n",
       "      <td>29.0</td>\n",
       "      <td>3270.0</td>\n",
       "      <td>1190.0</td>\n",
       "      <td>7607.0</td>\n",
       "    </tr>\n",
       "    <tr>\n",
       "      <th>7</th>\n",
       "      <td>2021-01-05</td>\n",
       "      <td>51.0</td>\n",
       "      <td>3128.0</td>\n",
       "      <td>1347.0</td>\n",
       "      <td>10350.0</td>\n",
       "    </tr>\n",
       "  </tbody>\n",
       "</table>\n",
       "</div>"
      ],
      "text/plain": [
       "  Reported Date  New Deaths  New Cases  \\\n",
       "3    2021-01-01        51.0     2476.0   \n",
       "4    2021-01-02        44.0     3363.0   \n",
       "5    2021-01-03        25.0     2964.0   \n",
       "6    2021-01-04        29.0     3270.0   \n",
       "7    2021-01-05        51.0     3128.0   \n",
       "\n",
       "   Number of patients hospitalized with COVID-19  Doses Administered  \n",
       "3                                         1260.0              4305.0  \n",
       "4                                         1003.0              4361.0  \n",
       "5                                          998.0              4808.0  \n",
       "6                                         1190.0              7607.0  \n",
       "7                                         1347.0             10350.0  "
      ]
     },
     "execution_count": 7,
     "metadata": {},
     "output_type": "execute_result"
    }
   ],
   "source": [
    "# We need two more columns for New Deaths and New Cases since the data for that is currently a cumilitive total\n",
    "new_cases = []\n",
    "new_deaths = []\n",
    "\n",
    "# Calculate daily change by getting the difference of one day from the previous day (for deaths and cases)\n",
    "# Loop through all rows and do the above^\n",
    "for i in range(2, len(merged_df.index)+2):\n",
    "    if i < 98:\n",
    "        new_cases.append(merged_df['Total Cases'][i+1] - merged_df['Total Cases'][i])\n",
    "        new_deaths.append(merged_df['Deaths'][i+1] - merged_df['Deaths'][i])       \n",
    "\n",
    "# Remove the first entry (December 31st, 2020) since it is used simply to get the values for January 1st, 2021\n",
    "merged_df = merged_df.iloc[1:]\n",
    "\n",
    "# Add the two new columns of data to the merged dataframe\n",
    "merged_df['New Cases'] = new_cases\n",
    "merged_df['New Deaths'] = new_deaths\n",
    "\n",
    "#Remove the cumilitive total columns\n",
    "merged_df = merged_df[['Reported Date', 'New Deaths', 'New Cases', 'Number of patients hospitalized with COVID-19', 'Doses Administered']]\n",
    "merged_df.head()"
   ]
  },
  {
   "cell_type": "code",
   "execution_count": 8,
   "metadata": {},
   "outputs": [
    {
     "data": {
      "text/html": [
       "<div>\n",
       "<style scoped>\n",
       "    .dataframe tbody tr th:only-of-type {\n",
       "        vertical-align: middle;\n",
       "    }\n",
       "\n",
       "    .dataframe tbody tr th {\n",
       "        vertical-align: top;\n",
       "    }\n",
       "\n",
       "    .dataframe thead th {\n",
       "        text-align: right;\n",
       "    }\n",
       "</style>\n",
       "<table border=\"1\" class=\"dataframe\">\n",
       "  <thead>\n",
       "    <tr style=\"text-align: right;\">\n",
       "      <th></th>\n",
       "      <th>Reported Date</th>\n",
       "      <th>New Deaths</th>\n",
       "      <th>New Cases</th>\n",
       "      <th>Number of patients hospitalized with COVID-19</th>\n",
       "      <th>Doses Administered</th>\n",
       "    </tr>\n",
       "  </thead>\n",
       "  <tbody>\n",
       "    <tr>\n",
       "      <th>1</th>\n",
       "      <td>2021-01-01</td>\n",
       "      <td>51.0</td>\n",
       "      <td>2476.0</td>\n",
       "      <td>1260.0</td>\n",
       "      <td>4305.0</td>\n",
       "    </tr>\n",
       "    <tr>\n",
       "      <th>2</th>\n",
       "      <td>2021-01-02</td>\n",
       "      <td>44.0</td>\n",
       "      <td>3363.0</td>\n",
       "      <td>1003.0</td>\n",
       "      <td>4361.0</td>\n",
       "    </tr>\n",
       "    <tr>\n",
       "      <th>3</th>\n",
       "      <td>2021-01-03</td>\n",
       "      <td>25.0</td>\n",
       "      <td>2964.0</td>\n",
       "      <td>998.0</td>\n",
       "      <td>4808.0</td>\n",
       "    </tr>\n",
       "    <tr>\n",
       "      <th>4</th>\n",
       "      <td>2021-01-04</td>\n",
       "      <td>29.0</td>\n",
       "      <td>3270.0</td>\n",
       "      <td>1190.0</td>\n",
       "      <td>7607.0</td>\n",
       "    </tr>\n",
       "    <tr>\n",
       "      <th>5</th>\n",
       "      <td>2021-01-05</td>\n",
       "      <td>51.0</td>\n",
       "      <td>3128.0</td>\n",
       "      <td>1347.0</td>\n",
       "      <td>10350.0</td>\n",
       "    </tr>\n",
       "    <tr>\n",
       "      <th>...</th>\n",
       "      <td>...</td>\n",
       "      <td>...</td>\n",
       "      <td>...</td>\n",
       "      <td>...</td>\n",
       "      <td>...</td>\n",
       "    </tr>\n",
       "    <tr>\n",
       "      <th>91</th>\n",
       "      <td>2021-04-01</td>\n",
       "      <td>23.0</td>\n",
       "      <td>2557.0</td>\n",
       "      <td>1116.0</td>\n",
       "      <td>88183.0</td>\n",
       "    </tr>\n",
       "    <tr>\n",
       "      <th>92</th>\n",
       "      <td>2021-04-02</td>\n",
       "      <td>23.0</td>\n",
       "      <td>3089.0</td>\n",
       "      <td>1162.0</td>\n",
       "      <td>59567.0</td>\n",
       "    </tr>\n",
       "    <tr>\n",
       "      <th>93</th>\n",
       "      <td>2021-04-03</td>\n",
       "      <td>16.0</td>\n",
       "      <td>3009.0</td>\n",
       "      <td>796.0</td>\n",
       "      <td>69125.0</td>\n",
       "    </tr>\n",
       "    <tr>\n",
       "      <th>94</th>\n",
       "      <td>2021-04-04</td>\n",
       "      <td>12.0</td>\n",
       "      <td>3041.0</td>\n",
       "      <td>811.0</td>\n",
       "      <td>52452.0</td>\n",
       "    </tr>\n",
       "    <tr>\n",
       "      <th>95</th>\n",
       "      <td>2021-04-05</td>\n",
       "      <td>10.0</td>\n",
       "      <td>2938.0</td>\n",
       "      <td>942.0</td>\n",
       "      <td>76199.0</td>\n",
       "    </tr>\n",
       "  </tbody>\n",
       "</table>\n",
       "<p>95 rows × 5 columns</p>\n",
       "</div>"
      ],
      "text/plain": [
       "   Reported Date  New Deaths  New Cases  \\\n",
       "1     2021-01-01        51.0     2476.0   \n",
       "2     2021-01-02        44.0     3363.0   \n",
       "3     2021-01-03        25.0     2964.0   \n",
       "4     2021-01-04        29.0     3270.0   \n",
       "5     2021-01-05        51.0     3128.0   \n",
       "..           ...         ...        ...   \n",
       "91    2021-04-01        23.0     2557.0   \n",
       "92    2021-04-02        23.0     3089.0   \n",
       "93    2021-04-03        16.0     3009.0   \n",
       "94    2021-04-04        12.0     3041.0   \n",
       "95    2021-04-05        10.0     2938.0   \n",
       "\n",
       "    Number of patients hospitalized with COVID-19  Doses Administered  \n",
       "1                                          1260.0              4305.0  \n",
       "2                                          1003.0              4361.0  \n",
       "3                                           998.0              4808.0  \n",
       "4                                          1190.0              7607.0  \n",
       "5                                          1347.0             10350.0  \n",
       "..                                            ...                 ...  \n",
       "91                                         1116.0             88183.0  \n",
       "92                                         1162.0             59567.0  \n",
       "93                                          796.0             69125.0  \n",
       "94                                          811.0             52452.0  \n",
       "95                                          942.0             76199.0  \n",
       "\n",
       "[95 rows x 5 columns]"
      ]
     },
     "execution_count": 8,
     "metadata": {},
     "output_type": "execute_result"
    }
   ],
   "source": [
    "# Reset the index to start at 1\n",
    "merged_df.index -= 2\n",
    "\n",
    "# Remove the last row since there's no vaccination data for April 6th\n",
    "merged_df = merged_df.iloc[:-1]\n",
    "merged_df"
   ]
  },
  {
   "cell_type": "code",
   "execution_count": 9,
   "metadata": {},
   "outputs": [],
   "source": [
    "# Output the cleaned data for submission\n",
    "merged_df.to_csv('../data/cleaned_data.csv', index = False)"
   ]
  },
  {
   "cell_type": "code",
   "execution_count": 10,
   "metadata": {},
   "outputs": [],
   "source": [
    "# Initialize Individual Variables\n",
    "# x_dates = merged_df['Reported Date']\n",
    "x_dates = merged_df.index # Since 'Reported Date' is a String and we need this to be a numerical value, we simply create an index\n",
    "y_cases = merged_df['New Cases']\n",
    "y_deaths = merged_df['New Deaths']\n",
    "y_hospitalized = merged_df['Number of patients hospitalized with COVID-19']\n",
    "y_doses = merged_df['Doses Administered']"
   ]
  },
  {
   "cell_type": "code",
   "execution_count": 11,
   "metadata": {},
   "outputs": [
    {
     "data": {
      "image/png": "[encoded data removed]",
      "text/plain": [
       "<Figure size 432x288 with 1 Axes>"
      ]
     },
     "metadata": {
      "needs_background": "light"
     },
     "output_type": "display_data"
    },
    {
     "data": {
      "text/plain": [
       "-0.08685671092535606"
      ]
     },
     "execution_count": 11,
     "metadata": {},
     "output_type": "execute_result"
    }
   ],
   "source": [
    "#Correlation between Doses Administered and New Cases\n",
    "#Plot\n",
    "plt.scatter(y_doses, y_cases)\n",
    "plt.xlabel(\"Doses Administered\")\n",
    "plt.ylabel(\"New Cases\")\n",
    "plt.show()\n",
    "#Coefficient\n",
    "merged_df[\"Doses Administered\"].corr(merged_df[\"New Cases\"], method='spearman')"
   ]
  },
  {
   "cell_type": "code",
   "execution_count": 12,
   "metadata": {},
   "outputs": [
    {
     "data": {
      "image/png": "[encoded data removed]",
      "text/plain": [
       "<Figure size 432x288 with 1 Axes>"
      ]
     },
     "metadata": {
      "needs_background": "light"
     },
     "output_type": "display_data"
    },
    {
     "data": {
      "text/plain": [
       "-0.6373887702649184"
      ]
     },
     "execution_count": 12,
     "metadata": {},
     "output_type": "execute_result"
    }
   ],
   "source": [
    "#Correlation between Doses Administered and New Deaths\n",
    "#Plot\n",
    "plt.scatter(y_doses, y_deaths)\n",
    "plt.xlabel(\"Doses Administered\")\n",
    "plt.ylabel(\"New Deaths\")\n",
    "plt.show()\n",
    "#Coefficient\n",
    "merged_df[\"Doses Administered\"].corr(merged_df[\"New Deaths\"], method='spearman')"
   ]
  },
  {
   "cell_type": "code",
   "execution_count": 13,
   "metadata": {},
   "outputs": [
    {
     "data": {
      "image/png": "[encoded data removed]",
      "text/plain": [
       "<Figure size 432x288 with 1 Axes>"
      ]
     },
     "metadata": {
      "needs_background": "light"
     },
     "output_type": "display_data"
    },
    {
     "data": {
      "text/plain": [
       "-0.45639256153456725"
      ]
     },
     "execution_count": 13,
     "metadata": {},
     "output_type": "execute_result"
    }
   ],
   "source": [
    "#Correlation between Doses Administered and Number of Patients Hospitalized\n",
    "#Plot\n",
    "plt.scatter(y_doses, y_hospitalized)\n",
    "plt.xlabel(\"Doses Administered\")\n",
    "plt.ylabel(\"Number of patients hospitalized\")\n",
    "plt.show()\n",
    "#Coefficient\n",
    "merged_df[\"Doses Administered\"].corr(merged_df[\"Number of patients hospitalized with COVID-19\"], method='spearman')"
   ]
  },
  {
   "cell_type": "code",
   "execution_count": 14,
   "metadata": {
    "scrolled": false
   },
   "outputs": [
    {
     "data": {
      "image/png": "[encoded data removed]",
      "text/plain": [
       "<Figure size 432x288 with 1 Axes>"
      ]
     },
     "metadata": {
      "needs_background": "light"
     },
     "output_type": "display_data"
    },
    {
     "name": "stdout",
     "output_type": "stream",
     "text": [
      "       2\n",
      "1.044 x - 112.8 x + 4143\n"
     ]
    }
   ],
   "source": [
    "# Date vs New Cases\n",
    "#polynomial fit with degree = 2\n",
    "model = np.poly1d(np.polyfit(x_dates, y_cases, 2))\n",
    "\n",
    "#add fitted polynomial line to scatterplot\n",
    "polyline = np.linspace(1, 100, 50)\n",
    "plt.scatter(x_dates, y_cases)\n",
    "plt.xlabel(\"Date (Days since Jan 1/2021)\")\n",
    "plt.ylabel(\"New Cases\")\n",
    "plt.plot(polyline, model(polyline), \"r\")\n",
    "plt.show()\n",
    "print(model)"
   ]
  },
  {
   "cell_type": "code",
   "execution_count": 15,
   "metadata": {},
   "outputs": [
    {
     "data": {
      "image/png": "[encoded data removed]",
      "text/plain": [
       "<Figure size 432x288 with 1 Axes>"
      ]
     },
     "metadata": {
      "needs_background": "light"
     },
     "output_type": "display_data"
    },
    {
     "name": "stdout",
     "output_type": "stream",
     "text": [
      "          2\n",
      "0.002266 x - 0.7963 x + 62.04\n"
     ]
    }
   ],
   "source": [
    "# Date vs New Deaths\n",
    "#polynomial fit with degree = 2\n",
    "model = np.poly1d(np.polyfit(x_dates, y_deaths, 2))\n",
    "\n",
    "#add fitted polynomial line to scatterplot\n",
    "polyline = np.linspace(1, 100, 50)\n",
    "plt.scatter(x_dates, y_deaths)\n",
    "plt.xlabel(\"Date (Days since Jan 1/2021)\")\n",
    "plt.ylabel(\"New Deaths\")\n",
    "plt.plot(polyline, model(polyline), \"r\")\n",
    "plt.show()\n",
    "print(model)"
   ]
  },
  {
   "cell_type": "code",
   "execution_count": 16,
   "metadata": {
    "scrolled": false
   },
   "outputs": [
    {
     "data": {
      "image/png": "[encoded data removed]",
      "text/plain": [
       "<Figure size 432x288 with 1 Axes>"
      ]
     },
     "metadata": {
      "needs_background": "light"
     },
     "output_type": "display_data"
    },
    {
     "name": "stdout",
     "output_type": "stream",
     "text": [
      "          3         2\n",
      "0.008954 x - 1.086 x + 21.47 x + 1341\n"
     ]
    }
   ],
   "source": [
    "# Date vs Number of Patients Hospitalized\n",
    "#polynomial fit with degree = 3\n",
    "model = np.poly1d(np.polyfit(x_dates, y_hospitalized, 3))\n",
    "\n",
    "#add fitted polynomial line to scatterplot\n",
    "polyline = np.linspace(1, 100, 50)\n",
    "plt.scatter(x_dates, y_hospitalized)\n",
    "plt.xlabel(\"Date (Days since Jan 1/2021)\")\n",
    "plt.ylabel(\"Number of Patients Hospitalized\")\n",
    "plt.plot(polyline, model(polyline), \"r\")\n",
    "plt.show()\n",
    "print(model)"
   ]
  },
  {
   "cell_type": "code",
   "execution_count": 17,
   "metadata": {
    "scrolled": true
   },
   "outputs": [
    {
     "data": {
      "image/png": "[encoded data removed]",
      "text/plain": [
       "<Figure size 432x288 with 1 Axes>"
      ]
     },
     "metadata": {
      "needs_background": "light"
     },
     "output_type": "display_data"
    },
    {
     "name": "stdout",
     "output_type": "stream",
     "text": [
      "       2\n",
      "14.75 x - 681.5 x + 1.493e+04\n"
     ]
    }
   ],
   "source": [
    "# Date vs Doses Administered\n",
    "#polynomial fit with degree = 3\n",
    "model = np.poly1d(np.polyfit(x_dates, y_doses, 2))\n",
    "\n",
    "#add fitted polynomial line to scatterplot\n",
    "polyline = np.linspace(1, 100, 50)\n",
    "plt.scatter(x_dates, y_doses)\n",
    "plt.xlabel(\"Date (Days since Jan 1/2021)\")\n",
    "plt.ylabel(\"Number of Doses Administered\")\n",
    "plt.plot(polyline, model(polyline), \"r\")\n",
    "plt.show()\n",
    "print(model)"
   ]
  }
 ],
 "metadata": {
  "kernelspec": {
   "display_name": "Python 3",
   "language": "python",
   "name": "python3"
  },
  "language_info": {
   "codemirror_mode": {
    "name": "ipython",
    "version": 3
   },
   "file_extension": ".py",
   "mimetype": "text/x-python",
   "name": "python",
   "nbconvert_exporter": "python",
   "pygments_lexer": "ipython3",
   "version": "3.8.5"
  }
 },
 "nbformat": 4,
 "nbformat_minor": 5
}
